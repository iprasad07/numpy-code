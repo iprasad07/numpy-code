{
 "cells": [
  {
   "cell_type": "code",
   "execution_count": 12,
   "id": "4bfc704e-fac3-47b5-aeb3-e44a56ec3b42",
   "metadata": {},
   "outputs": [],
   "source": [
    "import numpy as np"
   ]
  },
  {
   "cell_type": "code",
   "execution_count": 13,
   "id": "b3370e2f-620e-41ec-8e14-bad08c2c9fe7",
   "metadata": {},
   "outputs": [],
   "source": [
    "a=[1,2,3]"
   ]
  },
  {
   "cell_type": "code",
   "execution_count": 14,
   "id": "d3a47462-3e50-43e0-908d-1980818572c6",
   "metadata": {},
   "outputs": [
    {
     "name": "stdout",
     "output_type": "stream",
     "text": [
      "[1, 2, 3]\n"
     ]
    }
   ],
   "source": [
    "print(a)"
   ]
  },
  {
   "cell_type": "code",
   "execution_count": 15,
   "id": "d098dc1e-5da9-44e8-8758-9a2dd71f97e2",
   "metadata": {},
   "outputs": [],
   "source": [
    "#converting list to array\n",
    "b=np.array(a)"
   ]
  },
  {
   "cell_type": "code",
   "execution_count": 16,
   "id": "9155fe71-1ca1-4726-bdd8-c16c8b193494",
   "metadata": {},
   "outputs": [
    {
     "name": "stdout",
     "output_type": "stream",
     "text": [
      "[1 2 3]\n"
     ]
    }
   ],
   "source": [
    "print(b)"
   ]
  },
  {
   "cell_type": "code",
   "execution_count": 17,
   "id": "c8139344-8fac-4f79-bd5d-9bd4e3c698ca",
   "metadata": {},
   "outputs": [
    {
     "name": "stdout",
     "output_type": "stream",
     "text": [
      "[2 3]\n"
     ]
    }
   ],
   "source": [
    "#sorting\n",
    "print(b[1:3])"
   ]
  },
  {
   "cell_type": "code",
   "execution_count": 18,
   "id": "54831148-d58e-42b1-93c8-06421594659b",
   "metadata": {},
   "outputs": [],
   "source": [
    "m=[1,2,]\n",
    "n=[2,3,]\n",
    "o=[3,4,]"
   ]
  },
  {
   "cell_type": "code",
   "execution_count": 19,
   "id": "ac5efc37-7e23-48d0-a4b8-ed4e649f047a",
   "metadata": {},
   "outputs": [],
   "source": [
    "#2D array\n",
    "x=np.array([m,n,o])"
   ]
  },
  {
   "cell_type": "code",
   "execution_count": 20,
   "id": "f1538a0a-efe0-4ea4-a1e0-df4c4a869896",
   "metadata": {},
   "outputs": [
    {
     "name": "stdout",
     "output_type": "stream",
     "text": [
      "[[1 2]\n",
      " [2 3]\n",
      " [3 4]]\n"
     ]
    }
   ],
   "source": [
    "print(x)"
   ]
  },
  {
   "cell_type": "code",
   "execution_count": 21,
   "id": "fa64903c-8c2f-45a0-9741-cc6388d05828",
   "metadata": {},
   "outputs": [
    {
     "data": {
      "text/plain": [
       "(3, 2)"
      ]
     },
     "execution_count": 21,
     "metadata": {},
     "output_type": "execute_result"
    }
   ],
   "source": [
    "#finding shape of array\n",
    "x.shape"
   ]
  },
  {
   "cell_type": "code",
   "execution_count": 22,
   "id": "7145d967-3fd3-4894-be0a-e7d8cbfd8350",
   "metadata": {},
   "outputs": [
    {
     "data": {
      "text/plain": [
       "array([[1, 2, 2],\n",
       "       [3, 3, 4]])"
      ]
     },
     "execution_count": 22,
     "metadata": {},
     "output_type": "execute_result"
    }
   ],
   "source": [
    "#changing shape of array rows to colums\n",
    "x.reshape(2,3)"
   ]
  },
  {
   "cell_type": "code",
   "execution_count": 23,
   "id": "0bbdd980-6dd9-41ff-bf3c-349220113c0b",
   "metadata": {},
   "outputs": [],
   "source": [
    "#random numbers\n",
    "l=np.arange(1,19)"
   ]
  },
  {
   "cell_type": "code",
   "execution_count": 24,
   "id": "35c7f5fa-6564-4e52-b61e-43ea0e762477",
   "metadata": {},
   "outputs": [
    {
     "name": "stdout",
     "output_type": "stream",
     "text": [
      "[ 1  2  3  4  5  6  7  8  9 10 11 12 13 14 15 16 17 18]\n"
     ]
    }
   ],
   "source": [
    "print(l)"
   ]
  },
  {
   "cell_type": "code",
   "execution_count": 25,
   "id": "1e95b57f-235b-4731-8080-836034bdba14",
   "metadata": {},
   "outputs": [
    {
     "name": "stdout",
     "output_type": "stream",
     "text": [
      "[[ 1  2  3  4  5  6]\n",
      " [ 7  8  9 10 11 12]\n",
      " [13 14 15 16 17 18]]\n"
     ]
    }
   ],
   "source": [
    "#changing 1D array to 2D array using reshape \n",
    "i=l.reshape(3,6)\n",
    "print(i)"
   ]
  },
  {
   "cell_type": "code",
   "execution_count": 26,
   "id": "c87f8150-b3f3-4543-8c23-3e4eaafcbd4a",
   "metadata": {},
   "outputs": [
    {
     "data": {
      "text/plain": [
       "np.int64(18)"
      ]
     },
     "execution_count": 26,
     "metadata": {},
     "output_type": "execute_result"
    }
   ],
   "source": [
    "#accessing elements using indexing\n",
    "i[2,5]"
   ]
  },
  {
   "cell_type": "code",
   "execution_count": 27,
   "id": "aaef9c3e-a174-46cd-9c2e-520236e0f5f8",
   "metadata": {},
   "outputs": [
    {
     "name": "stdout",
     "output_type": "stream",
     "text": [
      "<class 'numpy.ndarray'>\n"
     ]
    }
   ],
   "source": [
    "#to know type of array\n",
    "print(type(i))"
   ]
  },
  {
   "cell_type": "code",
   "execution_count": 28,
   "id": "f1da03f8-a0f6-44fb-8a5f-28302a408283",
   "metadata": {},
   "outputs": [
    {
     "name": "stdout",
     "output_type": "stream",
     "text": [
      "[[1 2 3]\n",
      " [2 3 4]]\n"
     ]
    }
   ],
   "source": [
    "arr=np.array([[1,2,3],[2,3,4]])\n",
    "print(arr)"
   ]
  },
  {
   "cell_type": "code",
   "execution_count": 29,
   "id": "06953060-1072-4233-bbb2-b4292bc5836e",
   "metadata": {},
   "outputs": [
    {
     "name": "stdout",
     "output_type": "stream",
     "text": [
      "[[2 3]\n",
      " [3 4]]\n"
     ]
    }
   ],
   "source": [
    "#sorting 2D array\n",
    "print(arr[0:2,1:3])"
   ]
  },
  {
   "cell_type": "code",
   "execution_count": 30,
   "id": "11f8fb53-76b6-415a-87af-be8c963de722",
   "metadata": {},
   "outputs": [
    {
     "data": {
      "text/plain": [
       "array([[1, 2],\n",
       "       [3, 2],\n",
       "       [3, 4]])"
      ]
     },
     "execution_count": 30,
     "metadata": {},
     "output_type": "execute_result"
    }
   ],
   "source": [
    "#reshapping 2D array\n",
    "arr.reshape(3,2)"
   ]
  },
  {
   "cell_type": "code",
   "execution_count": 31,
   "id": "79411fed-2ee3-47ce-be39-89bfc3aa7f84",
   "metadata": {},
   "outputs": [
    {
     "name": "stdout",
     "output_type": "stream",
     "text": [
      "[[ 1  2  3  4  5  6]\n",
      " [ 7  8  9 10 11 12]\n",
      " [13 14 15 16 17 18]]\n"
     ]
    }
   ],
   "source": [
    "print(i)"
   ]
  },
  {
   "cell_type": "code",
   "execution_count": 32,
   "id": "189f3f78-e1be-4534-9370-4f343937e8b2",
   "metadata": {},
   "outputs": [
    {
     "name": "stdout",
     "output_type": "stream",
     "text": [
      "[[13 14 15 16 17]]\n"
     ]
    }
   ],
   "source": [
    "print(i[2:,:5])"
   ]
  },
  {
   "cell_type": "code",
   "execution_count": 33,
   "id": "103915f3-4f99-4aea-8e22-349bb8e4e3e5",
   "metadata": {},
   "outputs": [
    {
     "name": "stdout",
     "output_type": "stream",
     "text": [
      "[[ 1  2  3  4  5  6]\n",
      " [ 7  8  9 10 11 12]\n",
      " [13 14 15 16 17 18]]\n"
     ]
    }
   ],
   "source": [
    "print(i)"
   ]
  },
  {
   "cell_type": "code",
   "execution_count": 34,
   "id": "72413de2-87c7-4562-b341-f1181b3cdb3e",
   "metadata": {},
   "outputs": [
    {
     "data": {
      "text/plain": [
       "(3, 6)"
      ]
     },
     "execution_count": 34,
     "metadata": {},
     "output_type": "execute_result"
    }
   ],
   "source": [
    "i.shape"
   ]
  },
  {
   "cell_type": "code",
   "execution_count": 35,
   "id": "bc35b04d-46ff-49fe-b885-c67260bf2198",
   "metadata": {},
   "outputs": [
    {
     "data": {
      "text/plain": [
       "array([[ 1,  2,  3],\n",
       "       [ 4,  5,  6],\n",
       "       [ 7,  8,  9],\n",
       "       [10, 11, 12],\n",
       "       [13, 14, 15],\n",
       "       [16, 17, 18]])"
      ]
     },
     "execution_count": 35,
     "metadata": {},
     "output_type": "execute_result"
    }
   ],
   "source": [
    "i.reshape(6,3)"
   ]
  },
  {
   "cell_type": "code",
   "execution_count": 36,
   "id": "ed151e14-41f2-4e91-a5af-2957e94fee91",
   "metadata": {},
   "outputs": [
    {
     "data": {
      "text/plain": [
       "array([[1., 1.],\n",
       "       [1., 1.],\n",
       "       [1., 1.]])"
      ]
     },
     "execution_count": 36,
     "metadata": {},
     "output_type": "execute_result"
    }
   ],
   "source": [
    "np.ones((3,2))"
   ]
  },
  {
   "cell_type": "code",
   "execution_count": 37,
   "id": "62234d2d-9e7a-4414-a129-20888441f885",
   "metadata": {},
   "outputs": [
    {
     "data": {
      "text/plain": [
       "array([[0., 0., 0.],\n",
       "       [0., 0., 0.]])"
      ]
     },
     "execution_count": 37,
     "metadata": {},
     "output_type": "execute_result"
    }
   ],
   "source": [
    "np.zeros((2,3))"
   ]
  },
  {
   "cell_type": "code",
   "execution_count": 38,
   "id": "24cab45b-62a0-4954-8f4f-7f1ffaee3dc3",
   "metadata": {},
   "outputs": [
    {
     "data": {
      "text/plain": [
       "array([[24, 23],\n",
       "       [ 2, 12],\n",
       "       [ 9, 19]], dtype=int32)"
      ]
     },
     "execution_count": 38,
     "metadata": {},
     "output_type": "execute_result"
    }
   ],
   "source": [
    "np.random.randint(2,33,6).reshape(3,2)"
   ]
  },
  {
   "cell_type": "code",
   "execution_count": 39,
   "id": "1dc2f271-529c-4bbb-93df-8e869cc89acf",
   "metadata": {},
   "outputs": [
    {
     "data": {
      "text/plain": [
       "array([[-0.80947557,  0.79526329,  1.2858023 ],\n",
       "       [-1.46343967,  0.5882277 , -0.95273931],\n",
       "       [ 3.22138087, -0.44042634, -0.96658686]])"
      ]
     },
     "execution_count": 39,
     "metadata": {},
     "output_type": "execute_result"
    }
   ],
   "source": [
    "np.random.randn(3,3)"
   ]
  },
  {
   "cell_type": "code",
   "execution_count": 40,
   "id": "bf4c6e22-5ec8-4316-bdfa-eb33aecd6420",
   "metadata": {},
   "outputs": [
    {
     "name": "stdout",
     "output_type": "stream",
     "text": [
      "[[ 1  2  3  4  5  6]\n",
      " [ 7  8  9 10 11 12]\n",
      " [13 14 15 16 17 18]]\n"
     ]
    }
   ],
   "source": [
    "print(i)"
   ]
  },
  {
   "cell_type": "code",
   "execution_count": 41,
   "id": "07e1eba7-8375-4d8b-8785-3ac2d0fb8882",
   "metadata": {},
   "outputs": [
    {
     "name": "stdout",
     "output_type": "stream",
     "text": [
      "[[1 2]\n",
      " [2 3]\n",
      " [3 4]]\n"
     ]
    }
   ],
   "source": [
    "print(x)"
   ]
  },
  {
   "cell_type": "code",
   "execution_count": 42,
   "id": "9b95267d-0719-447c-a66f-3383f8569520",
   "metadata": {},
   "outputs": [
    {
     "name": "stdout",
     "output_type": "stream",
     "text": [
      "[1, 2, 3]\n"
     ]
    }
   ],
   "source": [
    "print(a)"
   ]
  },
  {
   "cell_type": "code",
   "execution_count": 43,
   "id": "8cc1fedb-8836-498c-90a3-bbe4674a7287",
   "metadata": {},
   "outputs": [
    {
     "name": "stdout",
     "output_type": "stream",
     "text": [
      "32\n"
     ]
    }
   ],
   "source": [
    "#dot prodct of 2D array\n",
    "v1= np.array([1,2,3])\n",
    "v2= np.array([4,5,6])\n",
    "dot_product=np.dot(v1,v2)\n",
    "print(dot_product)"
   ]
  },
  {
   "cell_type": "code",
   "execution_count": 44,
   "id": "e41dab31-f16b-4b29-a448-c96404347737",
   "metadata": {},
   "outputs": [
    {
     "name": "stdout",
     "output_type": "stream",
     "text": [
      "[[1. 0. 0.]\n",
      " [0. 1. 0.]\n",
      " [0. 0. 1.]]\n"
     ]
    }
   ],
   "source": [
    "identity_matrix = np.eye(3)  # Creates a 3x3 identity matrix\n",
    "print(identity_matrix)"
   ]
  },
  {
   "cell_type": "code",
   "execution_count": 45,
   "id": "8aba6610-5572-442d-879a-1ddf23306938",
   "metadata": {},
   "outputs": [
    {
     "name": "stdout",
     "output_type": "stream",
     "text": [
      "Max: 9\n",
      "Min: 1\n",
      "Sum: 45\n",
      "Column-wise Max: [8 9 7]\n",
      "Row-wise Min: [1 2 4]\n"
     ]
    }
   ],
   "source": [
    "arr = np.array([[3, 6, 1], [8, 5, 2], [4, 9, 7]])\n",
    "\n",
    "print(\"Max:\", np.max(arr))       # Finds the maximum element\n",
    "print(\"Min:\", np.min(arr))       # Finds the minimum element\n",
    "print(\"Sum:\", np.sum(arr))       # Sums all elements\n",
    "print(\"Column-wise Max:\", np.max(arr, axis=0))  # Finds max along columns\n",
    "print(\"Row-wise Min:\", np.min(arr, axis=1))     # Finds min along rows\n"
   ]
  },
  {
   "cell_type": "code",
   "execution_count": 46,
   "id": "635e2c8b-ee4e-4c0b-9769-00d634337cba",
   "metadata": {},
   "outputs": [
    {
     "name": "stdout",
     "output_type": "stream",
     "text": [
      "[[1.52836340e-01 1.57722112e-01 6.22819607e-01]\n",
      " [7.11469792e-01 3.44820294e-01 6.19952379e-01]\n",
      " [5.81742817e-01 4.17584258e-01 5.72481305e-04]]\n"
     ]
    }
   ],
   "source": [
    "random_floats = np.random.rand(3, 3)  # Generates a 3x3 matrix of random floats\n",
    "print(random_floats)\n"
   ]
  },
  {
   "cell_type": "code",
   "execution_count": 47,
   "id": "e9ee5652-c0a5-4882-a34d-33ce26b44b28",
   "metadata": {},
   "outputs": [
    {
     "name": "stdout",
     "output_type": "stream",
     "text": [
      "[[1 0 0 0]\n",
      " [0 2 0 0]\n",
      " [0 0 3 0]\n",
      " [0 0 0 4]]\n"
     ]
    }
   ],
   "source": [
    "diag_matrix = np.diag([1, 2, 3, 4])  # Creates a diagonal matrix with given values\n",
    "print(diag_matrix)\n"
   ]
  },
  {
   "cell_type": "code",
   "execution_count": 48,
   "id": "304fe750-5563-4e0d-a5d1-33bf1fa2d9b0",
   "metadata": {},
   "outputs": [
    {
     "name": "stdout",
     "output_type": "stream",
     "text": [
      "[1 2 3 4 5]\n"
     ]
    }
   ],
   "source": [
    "arr = np.array([1, 2, 2, 3, 4, 4, 5])\n",
    "unique_vals = np.unique(arr)  # Finds unique elements in the array\n",
    "print(unique_vals)\n"
   ]
  },
  {
   "cell_type": "code",
   "execution_count": 49,
   "id": "e852552a-a40f-415d-9a41-497d2235b46c",
   "metadata": {},
   "outputs": [
    {
     "name": "stdout",
     "output_type": "stream",
     "text": [
      "Horizontally Stacked:\n",
      " [[1 2 5 6]\n",
      " [3 4 7 8]]\n",
      "Vertically Stacked:\n",
      " [[1 2]\n",
      " [3 4]\n",
      " [5 6]\n",
      " [7 8]]\n"
     ]
    }
   ],
   "source": [
    "a = np.array([[1, 2], [3, 4]])\n",
    "b = np.array([[5, 6], [7, 8]])\n",
    "\n",
    "# Horizontal stacking (side-by-side)\n",
    "h_stack = np.hstack((a, b))\n",
    "print(\"Horizontally Stacked:\\n\", h_stack)\n",
    "\n",
    "# Vertical stacking (top and bottom)\n",
    "v_stack = np.vstack((a, b))\n",
    "print(\"Vertically Stacked:\\n\", v_stack)\n"
   ]
  },
  {
   "cell_type": "code",
   "execution_count": 50,
   "id": "73af0a2b-bfd2-45c4-9599-4231a3250863",
   "metadata": {},
   "outputs": [
    {
     "name": "stdout",
     "output_type": "stream",
     "text": [
      "[6 7 8 9]\n"
     ]
    }
   ],
   "source": [
    "arr = np.array([1, 2, 3, 4, 5, 6, 7, 8, 9])\n",
    "\n",
    "# Get elements greater than 5\n",
    "filtered_arr = arr[arr > 5]\n",
    "print(filtered_arr)\n"
   ]
  },
  {
   "cell_type": "code",
   "execution_count": 51,
   "id": "a64ee950-d589-4720-a18c-caddfab805de",
   "metadata": {},
   "outputs": [
    {
     "name": "stdout",
     "output_type": "stream",
     "text": [
      "Addition: [5 7 9]\n",
      "Multiplication: [ 4 10 18]\n",
      "Exponentiation: [ 2.71828183  7.3890561  20.08553692]\n",
      "Square Root: [1.         1.41421356 1.73205081]\n"
     ]
    }
   ],
   "source": [
    "a = np.array([1, 2, 3])\n",
    "b = np.array([4, 5, 6])\n",
    "\n",
    "print(\"Addition:\", a + b)\n",
    "print(\"Multiplication:\", a * b)\n",
    "print(\"Exponentiation:\", np.exp(a))\n",
    "print(\"Square Root:\", np.sqrt(a))\n"
   ]
  },
  {
   "cell_type": "code",
   "execution_count": 52,
   "id": "4cde7705-2444-4a34-a091-aa8f64230054",
   "metadata": {},
   "outputs": [
    {
     "name": "stdout",
     "output_type": "stream",
     "text": [
      "Mean: 30.0\n",
      "Variance: 200.0\n",
      "Standard Deviation: 14.142135623730951\n"
     ]
    }
   ],
   "source": [
    "arr = np.array([10, 20, 30, 40, 50])\n",
    "\n",
    "print(\"Mean:\", np.mean(arr))          # Average value\n",
    "print(\"Variance:\", np.var(arr))       # Variance of elements\n",
    "print(\"Standard Deviation:\", np.std(arr))  # Standard deviation\n"
   ]
  },
  {
   "cell_type": "code",
   "execution_count": 53,
   "id": "a6be8e05-f930-4071-9ec6-9539ac3ad237",
   "metadata": {},
   "outputs": [
    {
     "name": "stdout",
     "output_type": "stream",
     "text": [
      "[[1 4]\n",
      " [2 5]\n",
      " [3 6]]\n"
     ]
    }
   ],
   "source": [
    "matrix = np.array([[1, 2, 3], [4, 5, 6]])\n",
    "transposed_matrix = matrix.T  # Transposes the matrix\n",
    "print(transposed_matrix)\n"
   ]
  },
  {
   "cell_type": "code",
   "execution_count": null,
   "id": "71147c55-6e65-4491-8cc4-518fb604a5b1",
   "metadata": {},
   "outputs": [],
   "source": []
  }
 ],
 "metadata": {
  "kernelspec": {
   "display_name": "Python 3 (ipykernel)",
   "language": "python",
   "name": "python3"
  },
  "language_info": {
   "codemirror_mode": {
    "name": "ipython",
    "version": 3
   },
   "file_extension": ".py",
   "mimetype": "text/x-python",
   "name": "python",
   "nbconvert_exporter": "python",
   "pygments_lexer": "ipython3",
   "version": "3.12.5"
  }
 },
 "nbformat": 4,
 "nbformat_minor": 5
}
